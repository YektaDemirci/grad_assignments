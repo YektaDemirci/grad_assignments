{
  "nbformat": 4,
  "nbformat_minor": 0,
  "metadata": {
    "colab": {
      "name": "657A_A3_2.ipynb",
      "provenance": [],
      "collapsed_sections": [
        "_6m6Zkcs0Bsd",
        "u8iWdflJ0L94",
        "Qe0UgJjlNXTz",
        "6XR-GgQm3SQS"
      ]
    },
    "kernelspec": {
      "name": "python3",
      "display_name": "Python 3"
    },
    "accelerator": "GPU"
  },
  "cells": [
    {
      "cell_type": "code",
      "metadata": {
        "id": "zRnmroBPz0EE",
        "colab_type": "code",
        "colab": {}
      },
      "source": [
        "import os\n",
        "from pydrive.auth import GoogleAuth\n",
        "from pydrive.drive import GoogleDrive\n",
        "from google.colab import auth\n",
        "from oauth2client.client import GoogleCredentials\n",
        "\n",
        "auth.authenticate_user()\n",
        "gauth = GoogleAuth()\n",
        "gauth.credentials = GoogleCredentials.get_application_default()\n",
        "drive = GoogleDrive(gauth)\n",
        "\n",
        "download = drive.CreateFile({'id': '1o2_hzOA0Ix4lVJGUpm8WQU_f-Bg9e2qi'})\n",
        "download.GetContentFile('train.csv')\n",
        "\n",
        "download = drive.CreateFile({'id': '1h_h6bFrQGgmaFPFATepZPOENO3qB7cEd'})\n",
        "download.GetContentFile('test.csv')"
      ],
      "execution_count": 0,
      "outputs": []
    },
    {
      "cell_type": "code",
      "metadata": {
        "id": "miuWT4ilxqIN",
        "colab_type": "code",
        "colab": {}
      },
      "source": [
        "import pandas as pd\n",
        "train = pd.read_csv('train.csv')\n",
        "df_test = pd.read_csv('test.csv')"
      ],
      "execution_count": 0,
      "outputs": []
    },
    {
      "cell_type": "markdown",
      "metadata": {
        "id": "_6m6Zkcs0Bsd",
        "colab_type": "text"
      },
      "source": [
        "## 80/20 train/val"
      ]
    },
    {
      "cell_type": "code",
      "metadata": {
        "id": "6EQOh_hp2z5X",
        "colab_type": "code",
        "colab": {}
      },
      "source": [
        "x_trainval = train.drop('Label', axis=1).drop('Id', axis=1).values.reshape(len(train),28,28,1).astype('float32')\n",
        "xn_trainval = x_trainval.astype('float32') #/ 255\n",
        "y_trainval = train['Label'].values"
      ],
      "execution_count": 0,
      "outputs": []
    },
    {
      "cell_type": "code",
      "metadata": {
        "id": "8BXDeI_F1Cdj",
        "colab_type": "code",
        "outputId": "69d189b7-5233-4378-8da4-d0eba4f550ad",
        "colab": {
          "base_uri": "https://localhost:8080/",
          "height": 84
        }
      },
      "source": [
        "from sklearn.model_selection import train_test_split\n",
        "import matplotlib.pyplot as plt\n",
        "import numpy as np\n",
        "\n",
        "xn_train, xn_val, y_train, y_val = train_test_split(xn_trainval, y_trainval, test_size=0.2, random_state=42)\n",
        "print(\"Train:\", xn_train.shape, y_train.shape, \"\\nValidate: \", xn_val.shape, y_val.shape)\n",
        "\n",
        "from keras.utils import to_categorical\n",
        "#one-hot encode target column\n",
        "y_train = to_categorical(y_train)\n",
        "y_val = to_categorical(y_val)\n",
        "print(\"Train:\", xn_train.shape, y_train.shape, \"\\nValidate: \", xn_val.shape, y_val.shape)"
      ],
      "execution_count": 0,
      "outputs": [
        {
          "output_type": "stream",
          "text": [
            "Train: (48000, 28, 28, 1) (48000,) \n",
            "Validate:  (12000, 28, 28, 1) (12000,)\n",
            "Train: (48000, 28, 28, 1) (48000, 5) \n",
            "Validate:  (12000, 28, 28, 1) (12000, 5)\n"
          ],
          "name": "stdout"
        }
      ]
    },
    {
      "cell_type": "code",
      "metadata": {
        "id": "itw7k2nm5ySx",
        "colab_type": "code",
        "outputId": "2cabfb17-c874-4578-9fe2-50e0f54001f3",
        "colab": {
          "base_uri": "https://localhost:8080/",
          "height": 265
        }
      },
      "source": [
        "plt.imshow(xn_train[4,:,:,0], cmap='gray_r');"
      ],
      "execution_count": 0,
      "outputs": [
        {
          "output_type": "display_data",
          "data": {
            "image/png": "[encoded data removed]",
            "text/plain": [
              "<Figure size 432x288 with 1 Axes>"
            ]
          },
          "metadata": {
            "tags": [],
            "needs_background": "light"
          }
        }
      ]
    },
    {
      "cell_type": "markdown",
      "metadata": {
        "colab_type": "text",
        "id": "u8iWdflJ0L94"
      },
      "source": [
        "## 60/20/20 train/val/test"
      ]
    },
    {
      "cell_type": "code",
      "metadata": {
        "colab_type": "code",
        "id": "gDHjURBk0P49",
        "colab": {}
      },
      "source": [
        "x_trainvaltest = train.drop('Label', axis=1).drop('Id', axis=1).values.reshape(len(train),28,28,1).astype('float32')\n",
        "xn_trainvaltest = x_trainvaltest.astype('float32') #/ 255\n",
        "y_trainvaltest = train['Label'].values"
      ],
      "execution_count": 0,
      "outputs": []
    },
    {
      "cell_type": "code",
      "metadata": {
        "colab_type": "code",
        "outputId": "fc6b4497-5a8e-488d-df6d-083a5d1b2b80",
        "id": "Ot5ibd_I0P5O",
        "colab": {
          "base_uri": "https://localhost:8080/",
          "height": 84
        }
      },
      "source": [
        "from sklearn.model_selection import train_test_split\n",
        "import matplotlib.pyplot as plt\n",
        "import numpy as np\n",
        "\n",
        "xn_trainval, xn_test, y_trainval, y_test = train_test_split(xn_trainvaltest, y_trainvaltest, test_size=0.2, random_state=42)\n",
        "xn_train, xn_val, y_train, y_val = train_test_split(xn_trainval, y_trainval, test_size=0.2, random_state=42)\n",
        "\n",
        "from keras.utils import to_categorical\n",
        "#one-hot encode target column\n",
        "y_train = to_categorical(y_train)\n",
        "y_val = to_categorical(y_val)\n",
        "y_test = to_categorical(y_test)\n",
        "print(\"Train:\", xn_train.shape, y_train.shape, \"\\nValidate: \", xn_val.shape, y_val.shape, \"\\nTest: \", xn_test.shape, y_test.shape)"
      ],
      "execution_count": 0,
      "outputs": [
        {
          "output_type": "stream",
          "text": [
            "Using TensorFlow backend.\n"
          ],
          "name": "stderr"
        },
        {
          "output_type": "stream",
          "text": [
            "Train: (38400, 28, 28, 1) (38400, 5) \n",
            "Validate:  (9600, 28, 28, 1) (9600, 5) \n",
            "Test:  (12000, 28, 28, 1) (12000, 5)\n"
          ],
          "name": "stdout"
        }
      ]
    },
    {
      "cell_type": "code",
      "metadata": {
        "colab_type": "code",
        "outputId": "dd015bc3-e8b8-4bd8-e070-b8ce500510fc",
        "id": "i90h-ERl0P5f",
        "colab": {
          "base_uri": "https://localhost:8080/",
          "height": 265
        }
      },
      "source": [
        "plt.imshow(xn_train[4,:,:,0], cmap='gray_r');"
      ],
      "execution_count": 0,
      "outputs": [
        {
          "output_type": "display_data",
          "data": {
            "image/png": "[encoded data removed]",
            "text/plain": [
              "<Figure size 432x288 with 1 Axes>"
            ]
          },
          "metadata": {
            "tags": [],
            "needs_background": "light"
          }
        }
      ]
    },
    {
      "cell_type": "markdown",
      "metadata": {
        "id": "Qe0UgJjlNXTz",
        "colab_type": "text"
      },
      "source": [
        "## CNN"
      ]
    },
    {
      "cell_type": "code",
      "metadata": {
        "id": "D-1_dttR4Ux2",
        "colab_type": "code",
        "outputId": "0452653c-01aa-4e73-9d6e-d8d0375b4ad0",
        "colab": {
          "base_uri": "https://localhost:8080/",
          "height": 487
        }
      },
      "source": [
        "import tensorflow as tf\n",
        "from tensorflow.keras import layers, models\n",
        "import matplotlib.pyplot as plt\n",
        "tf.keras.backend.clear_session()\n",
        "\n",
        "cdrop = 0.4\n",
        "\n",
        "model = models.Sequential()\n",
        "model.add(layers.Conv2D(filters=32, kernel_size=3, strides=1, padding='same', activation='relu', input_shape=(28,28,1)))\n",
        "model.add(layers.MaxPooling2D(pool_size=2))\n",
        "#model.add(layers.Dropout(0.1))\n",
        "\n",
        "model.add(layers.Conv2D(filters=64, kernel_size=3, strides=1, padding='same', activation='relu'))\n",
        "model.add(layers.MaxPooling2D(pool_size=2))\n",
        "model.add(layers.Dropout(0.4))\n",
        "\n",
        "model.add(layers.Flatten())\n",
        "model.add(layers.Dense(units=128, activation='relu'))\n",
        "model.add(layers.Dense(units=256, activation='relu'))\n",
        "model.add(layers.Dense(units=512, activation='relu'))\n",
        "\n",
        "model.add(layers.Dense(units=5, activation='softmax'))\n",
        "\n",
        "optimizer = tf.keras.optimizers.RMSprop\n",
        "model.compile(optimizer=optimizer, loss = 'categorical_crossentropy', metrics=['accuracy'])\n",
        "\n",
        "model.summary()"
      ],
      "execution_count": 0,
      "outputs": [
        {
          "output_type": "stream",
          "text": [
            "Model: \"sequential\"\n",
            "_________________________________________________________________\n",
            "Layer (type)                 Output Shape              Param #   \n",
            "=================================================================\n",
            "conv2d (Conv2D)              (None, 28, 28, 32)        320       \n",
            "_________________________________________________________________\n",
            "max_pooling2d (MaxPooling2D) (None, 14, 14, 32)        0         \n",
            "_________________________________________________________________\n",
            "conv2d_1 (Conv2D)            (None, 14, 14, 64)        18496     \n",
            "_________________________________________________________________\n",
            "max_pooling2d_1 (MaxPooling2 (None, 7, 7, 64)          0         \n",
            "_________________________________________________________________\n",
            "dropout (Dropout)            (None, 7, 7, 64)          0         \n",
            "_________________________________________________________________\n",
            "flatten (Flatten)            (None, 3136)              0         \n",
            "_________________________________________________________________\n",
            "dense (Dense)                (None, 128)               401536    \n",
            "_________________________________________________________________\n",
            "dense_1 (Dense)              (None, 256)               33024     \n",
            "_________________________________________________________________\n",
            "dense_2 (Dense)              (None, 512)               131584    \n",
            "_________________________________________________________________\n",
            "dense_3 (Dense)              (None, 5)                 2565      \n",
            "=================================================================\n",
            "Total params: 587,525\n",
            "Trainable params: 587,525\n",
            "Non-trainable params: 0\n",
            "_________________________________________________________________\n"
          ],
          "name": "stdout"
        }
      ]
    },
    {
      "cell_type": "code",
      "metadata": {
        "id": "4iZ81yowPykj",
        "colab_type": "code",
        "outputId": "1f34d5dd-190c-4b27-e103-c6f4deeff622",
        "colab": {
          "base_uri": "https://localhost:8080/",
          "height": 1000
        }
      },
      "source": [
        "from tensorflow.keras.callbacks import LearningRateScheduler\n",
        "def decay_schedule(epoch, lr):\n",
        "    # decay by 0.1 in these specific epochs\n",
        "    if (epoch == 10 or epoch == 15 or epoch == 20 or epoch == 25) and (epoch != 0):\n",
        "        lr = lr * 0.1\n",
        "    return lr\n",
        "\n",
        "lr_scheduler = LearningRateScheduler(decay_schedule)\n",
        "history = model.fit(xn_train, y_train, validation_data=(xn_val, y_val), epochs=30,\n",
        "                    batch_size=128, callbacks=[lr_scheduler], verbose=1)"
      ],
      "execution_count": 0,
      "outputs": [
        {
          "output_type": "stream",
          "text": [
            "Epoch 1/30\n",
            "375/375 [==============================] - 2s 5ms/step - loss: 0.6143 - accuracy: 0.7396 - val_loss: 0.4252 - val_accuracy: 0.8258 - lr: 0.0010\n",
            "Epoch 2/30\n",
            "375/375 [==============================] - 2s 5ms/step - loss: 0.4176 - accuracy: 0.8286 - val_loss: 0.3577 - val_accuracy: 0.8546 - lr: 0.0010\n",
            "Epoch 3/30\n",
            "375/375 [==============================] - 2s 5ms/step - loss: 0.3633 - accuracy: 0.8514 - val_loss: 0.3320 - val_accuracy: 0.8615 - lr: 0.0010\n",
            "Epoch 4/30\n",
            "375/375 [==============================] - 2s 5ms/step - loss: 0.3220 - accuracy: 0.8684 - val_loss: 0.2930 - val_accuracy: 0.8829 - lr: 0.0010\n",
            "Epoch 5/30\n",
            "375/375 [==============================] - 2s 5ms/step - loss: 0.3000 - accuracy: 0.8764 - val_loss: 0.2734 - val_accuracy: 0.8905 - lr: 0.0010\n",
            "Epoch 6/30\n",
            "375/375 [==============================] - 2s 5ms/step - loss: 0.2787 - accuracy: 0.8867 - val_loss: 0.2899 - val_accuracy: 0.8797 - lr: 0.0010\n",
            "Epoch 7/30\n",
            "375/375 [==============================] - 2s 5ms/step - loss: 0.2666 - accuracy: 0.8912 - val_loss: 0.2790 - val_accuracy: 0.8879 - lr: 0.0010\n",
            "Epoch 8/30\n",
            "375/375 [==============================] - 2s 5ms/step - loss: 0.2626 - accuracy: 0.8925 - val_loss: 0.2804 - val_accuracy: 0.8843 - lr: 0.0010\n",
            "Epoch 9/30\n",
            "375/375 [==============================] - 2s 5ms/step - loss: 0.2369 - accuracy: 0.9038 - val_loss: 0.2437 - val_accuracy: 0.9025 - lr: 0.0010\n",
            "Epoch 10/30\n",
            "375/375 [==============================] - 2s 5ms/step - loss: 0.2326 - accuracy: 0.9043 - val_loss: 0.2722 - val_accuracy: 0.8897 - lr: 0.0010\n",
            "Epoch 11/30\n",
            "375/375 [==============================] - 2s 5ms/step - loss: 0.1836 - accuracy: 0.9264 - val_loss: 0.2214 - val_accuracy: 0.9112 - lr: 1.0000e-04\n",
            "Epoch 12/30\n",
            "375/375 [==============================] - 2s 5ms/step - loss: 0.1703 - accuracy: 0.9333 - val_loss: 0.2212 - val_accuracy: 0.9109 - lr: 1.0000e-04\n",
            "Epoch 13/30\n",
            "375/375 [==============================] - 2s 5ms/step - loss: 0.1697 - accuracy: 0.9322 - val_loss: 0.2231 - val_accuracy: 0.9126 - lr: 1.0000e-04\n",
            "Epoch 14/30\n",
            "375/375 [==============================] - 2s 5ms/step - loss: 0.1644 - accuracy: 0.9339 - val_loss: 0.2212 - val_accuracy: 0.9128 - lr: 1.0000e-04\n",
            "Epoch 15/30\n",
            "375/375 [==============================] - 2s 5ms/step - loss: 0.1623 - accuracy: 0.9343 - val_loss: 0.2182 - val_accuracy: 0.9132 - lr: 1.0000e-04\n",
            "Epoch 16/30\n",
            "375/375 [==============================] - 2s 5ms/step - loss: 0.1537 - accuracy: 0.9381 - val_loss: 0.2160 - val_accuracy: 0.9149 - lr: 1.0000e-05\n",
            "Epoch 17/30\n",
            "375/375 [==============================] - 2s 5ms/step - loss: 0.1540 - accuracy: 0.9385 - val_loss: 0.2159 - val_accuracy: 0.9151 - lr: 1.0000e-05\n",
            "Epoch 18/30\n",
            "375/375 [==============================] - 2s 5ms/step - loss: 0.1524 - accuracy: 0.9388 - val_loss: 0.2161 - val_accuracy: 0.9149 - lr: 1.0000e-05\n",
            "Epoch 19/30\n",
            "375/375 [==============================] - 2s 5ms/step - loss: 0.1521 - accuracy: 0.9396 - val_loss: 0.2164 - val_accuracy: 0.9153 - lr: 1.0000e-05\n",
            "Epoch 20/30\n",
            "375/375 [==============================] - 2s 5ms/step - loss: 0.1530 - accuracy: 0.9395 - val_loss: 0.2182 - val_accuracy: 0.9147 - lr: 1.0000e-05\n",
            "Epoch 21/30\n",
            "375/375 [==============================] - 2s 5ms/step - loss: 0.1521 - accuracy: 0.9395 - val_loss: 0.2162 - val_accuracy: 0.9150 - lr: 1.0000e-06\n",
            "Epoch 22/30\n",
            "375/375 [==============================] - 2s 5ms/step - loss: 0.1510 - accuracy: 0.9401 - val_loss: 0.2160 - val_accuracy: 0.9159 - lr: 1.0000e-06\n",
            "Epoch 23/30\n",
            "375/375 [==============================] - 2s 5ms/step - loss: 0.1519 - accuracy: 0.9395 - val_loss: 0.2160 - val_accuracy: 0.9159 - lr: 1.0000e-06\n",
            "Epoch 24/30\n",
            "375/375 [==============================] - 2s 5ms/step - loss: 0.1545 - accuracy: 0.9378 - val_loss: 0.2159 - val_accuracy: 0.9155 - lr: 1.0000e-06\n",
            "Epoch 25/30\n",
            "375/375 [==============================] - 2s 5ms/step - loss: 0.1543 - accuracy: 0.9375 - val_loss: 0.2160 - val_accuracy: 0.9158 - lr: 1.0000e-06\n",
            "Epoch 26/30\n",
            "375/375 [==============================] - 2s 5ms/step - loss: 0.1522 - accuracy: 0.9400 - val_loss: 0.2160 - val_accuracy: 0.9156 - lr: 1.0000e-07\n",
            "Epoch 27/30\n",
            "375/375 [==============================] - 2s 5ms/step - loss: 0.1524 - accuracy: 0.9390 - val_loss: 0.2160 - val_accuracy: 0.9156 - lr: 1.0000e-07\n",
            "Epoch 28/30\n",
            "375/375 [==============================] - 2s 5ms/step - loss: 0.1498 - accuracy: 0.9397 - val_loss: 0.2160 - val_accuracy: 0.9156 - lr: 1.0000e-07\n",
            "Epoch 29/30\n",
            "375/375 [==============================] - 2s 5ms/step - loss: 0.1512 - accuracy: 0.9394 - val_loss: 0.2160 - val_accuracy: 0.9155 - lr: 1.0000e-07\n",
            "Epoch 30/30\n",
            "375/375 [==============================] - 2s 5ms/step - loss: 0.1528 - accuracy: 0.9380 - val_loss: 0.2160 - val_accuracy: 0.9156 - lr: 1.0000e-07\n"
          ],
          "name": "stdout"
        }
      ]
    },
    {
      "cell_type": "code",
      "metadata": {
        "id": "xdVaxfpuB6Wx",
        "colab_type": "code",
        "outputId": "c4fa8ed8-47e2-4171-f755-cf8ed1495e34",
        "colab": {
          "base_uri": "https://localhost:8080/",
          "height": 573
        }
      },
      "source": [
        "accuracy = history.history['accuracy']\n",
        "val_accuracy = history.history['val_accuracy']\n",
        "loss = history.history['loss']\n",
        "val_loss = history.history['val_loss']\n",
        "plt.plot(accuracy, label='Training Accuracy')\n",
        "plt.plot(val_accuracy, label='Validation Accuracy')\n",
        "plt.title('Training and Validation accuracy')\n",
        "plt.xlabel('Epochs'); plt.ylabel('Accuracy')\n",
        "plt.legend(); plt.figure();\n",
        "plt.plot(loss, label='Training Loss')\n",
        "plt.plot(val_loss, label='Validation Loss')\n",
        "plt.title('Training and validation loss')\n",
        "plt.xlabel('Epochs'); plt.ylabel('Loss')\n",
        "plt.legend(); plt.show();"
      ],
      "execution_count": 0,
      "outputs": [
        {
          "output_type": "display_data",
          "data": {
            "image/png": "[encoded data removed]",
            "text/plain": [
              "<Figure size 432x288 with 1 Axes>"
            ]
          },
          "metadata": {
            "tags": [],
            "needs_background": "light"
          }
        },
        {
          "output_type": "display_data",
          "data": {
            "image/png": "[encoded data removed]",
            "text/plain": [
              "<Figure size 432x288 with 1 Axes>"
            ]
          },
          "metadata": {
            "tags": [],
            "needs_background": "light"
          }
        }
      ]
    },
    {
      "cell_type": "code",
      "metadata": {
        "id": "9r_MxZ-KDO-M",
        "colab_type": "code",
        "outputId": "029ab31e-aa62-4436-9942-d12fe5b5246b",
        "colab": {
          "base_uri": "https://localhost:8080/",
          "height": 50
        }
      },
      "source": [
        "# For testing 60/20/20 split\n",
        "model.evaluate(xn_test, y_test)"
      ],
      "execution_count": 0,
      "outputs": [
        {
          "output_type": "stream",
          "text": [
            "375/375 [==============================] - 1s 2ms/step - loss: 0.2360 - accuracy: 0.9137\n"
          ],
          "name": "stdout"
        },
        {
          "output_type": "execute_result",
          "data": {
            "text/plain": [
              "[0.2360100895166397, 0.9137499928474426]"
            ]
          },
          "metadata": {
            "tags": []
          },
          "execution_count": 144
        }
      ]
    },
    {
      "cell_type": "code",
      "metadata": {
        "colab_type": "code",
        "id": "NcpT6Ga7J2en",
        "colab": {}
      },
      "source": [
        "model.save('Best_model2.h5')"
      ],
      "execution_count": 0,
      "outputs": []
    },
    {
      "cell_type": "code",
      "metadata": {
        "id": "ejcEwGmGMlXn",
        "colab_type": "code",
        "colab": {}
      },
      "source": [
        "x_test = df_test.drop('Id', axis=1).values.reshape(len(df_test),28,28,1)\n",
        "x_test = x_test.astype('float32') / 255"
      ],
      "execution_count": 0,
      "outputs": []
    },
    {
      "cell_type": "code",
      "metadata": {
        "id": "2GtIJJqkDUqN",
        "colab_type": "code",
        "colab": {}
      },
      "source": [
        "import time\n",
        "st = time.time()\n",
        "catpred = model.predict(x_test_resnet)\n",
        "print('Time:', time.time() - st)"
      ],
      "execution_count": 0,
      "outputs": []
    },
    {
      "cell_type": "code",
      "metadata": {
        "id": "Z-aUcEDEJ9bZ",
        "colab_type": "code",
        "outputId": "14369291-b453-4c2d-b391-7224113c03d4",
        "colab": {
          "base_uri": "https://localhost:8080/",
          "height": 34
        }
      },
      "source": [
        "preds = []\n",
        "for i in catpred:\n",
        "    pred = np.argmax(i)\n",
        "    preds.append(pred)\n",
        "preds =np.array(preds)\n",
        "preds"
      ],
      "execution_count": 0,
      "outputs": [
        {
          "output_type": "execute_result",
          "data": {
            "text/plain": [
              "array([4, 4, 0, ..., 3, 2, 2])"
            ]
          },
          "metadata": {
            "tags": []
          },
          "execution_count": 180
        }
      ]
    },
    {
      "cell_type": "code",
      "metadata": {
        "id": "38S3hOhcQ8PW",
        "colab_type": "code",
        "outputId": "5466215b-2521-4c44-f0c3-acb5d26bc05b",
        "colab": {
          "base_uri": "https://localhost:8080/",
          "height": 34
        }
      },
      "source": [
        "df_test['Id'].values.shape"
      ],
      "execution_count": 0,
      "outputs": [
        {
          "output_type": "execute_result",
          "data": {
            "text/plain": [
              "(10000,)"
            ]
          },
          "metadata": {
            "tags": []
          },
          "execution_count": 181
        }
      ]
    },
    {
      "cell_type": "code",
      "metadata": {
        "id": "0MpTvFuLQGtF",
        "colab_type": "code",
        "colab": {}
      },
      "source": [
        "df_sub = pd.DataFrame(df_test['Id'])\n",
        "df_sub['Label'] = preds\n",
        "df_sub.to_csv('submission2.csv', index=False)"
      ],
      "execution_count": 0,
      "outputs": []
    },
    {
      "cell_type": "code",
      "metadata": {
        "id": "svQI7W9kQQGM",
        "colab_type": "code",
        "colab": {}
      },
      "source": [
        "from google.colab import files\n",
        "files.download(\"submission2.csv\")"
      ],
      "execution_count": 0,
      "outputs": []
    },
    {
      "cell_type": "code",
      "metadata": {
        "id": "F1A85vb1ShHA",
        "colab_type": "code",
        "colab": {}
      },
      "source": [
        "from google.colab import files\n",
        "files.download(\"Best_model2.h5\")"
      ],
      "execution_count": 0,
      "outputs": []
    },
    {
      "cell_type": "markdown",
      "metadata": {
        "id": "6XR-GgQm3SQS",
        "colab_type": "text"
      },
      "source": [
        "## ResNet"
      ]
    },
    {
      "cell_type": "code",
      "metadata": {
        "colab_type": "code",
        "outputId": "0f5f59e0-9572-4179-97c2-327e7386ddf0",
        "id": "TzQ60_rAKaas",
        "colab": {
          "base_uri": "https://localhost:8080/",
          "height": 67
        }
      },
      "source": [
        "from sklearn.model_selection import train_test_split\n",
        "import matplotlib.pyplot as plt\n",
        "import numpy as np\n",
        "\n",
        "xn_train, xn_val, y_train, y_val = train_test_split(xn_trainval, y_trainval, test_size=0.2, random_state=42)\n",
        "print(\"Train:\", xn_train.shape, y_train.shape, \"\\nValidate: \", xn_val.shape, y_val.shape)\n",
        "\n",
        "#xn_trainval, xn_test, y_trainval, y_test = train_test_split(xn_trainvaltest, y_trainvaltest, test_size=0.2, random_state=42)\n",
        "#xn_train, xn_val, y_train, y_val = train_test_split(xn_trainval, y_trainval, test_size=0.2, random_state=42)\n",
        "\n",
        "from keras.utils import to_categorical\n",
        "#one-hot encode target column\n",
        "y_train = to_categorical(y_train)\n",
        "y_val = to_categorical(y_val)\n",
        "#y_test = to_categorical(y_test)\n",
        "#print(\"Train:\", xn_train.shape, y_train.shape, \"\\nValidate: \", xn_val.shape, y_val.shape, \"\\nTest: \", xn_test.shape, y_test.shape)"
      ],
      "execution_count": 0,
      "outputs": [
        {
          "output_type": "stream",
          "text": [
            "Train: (48000, 28, 28, 1) (48000,) \n",
            "Validate:  (12000, 28, 28, 1) (12000,)\n"
          ],
          "name": "stdout"
        },
        {
          "output_type": "stream",
          "text": [
            "Using TensorFlow backend.\n"
          ],
          "name": "stderr"
        }
      ]
    },
    {
      "cell_type": "code",
      "metadata": {
        "id": "xy3xcL_wQ049",
        "colab_type": "code",
        "outputId": "ddbc4e2d-4f95-466e-fdd5-950598b1712f",
        "colab": {
          "base_uri": "https://localhost:8080/",
          "height": 50
        }
      },
      "source": [
        "import PIL\n",
        "\n",
        "x_train_r = np.pad(xn_train, ((0,0),(2,2),(2,2),(0,0)), 'constant')\n",
        "x_train_resnet = np.empty((len(x_train_r), 32, 32, 3))\n",
        "for i in range(len(x_train_resnet)):\n",
        "    x_train_resnet[i, :, :] = np.asarray(PIL.Image.fromarray(x_train_r[i,:,:,0]).convert('RGB'))\n",
        "print('Training set:', x_train_resnet.shape)\n",
        "\n",
        "x_val_r = np.pad(xn_val, ((0,0),(2,2),(2,2),(0,0)), 'constant')\n",
        "x_val_resnet = np.empty((len(x_val_r), 32, 32, 3))\n",
        "for i in range(len(x_val_resnet)):\n",
        "    x_val_resnet[i, :, :] = np.asarray(PIL.Image.fromarray(x_val_r[i,:,:,0]).convert('RGB'))\n",
        "print('Validation set:', x_val_resnet.shape)"
      ],
      "execution_count": 0,
      "outputs": [
        {
          "output_type": "stream",
          "text": [
            "Training set: (48000, 32, 32, 3)\n",
            "Validation set: (12000, 32, 32, 3)\n"
          ],
          "name": "stdout"
        }
      ]
    },
    {
      "cell_type": "code",
      "metadata": {
        "id": "YZ19QbDr3Q9J",
        "colab_type": "code",
        "outputId": "5ebfe6c7-420c-4d65-f84f-e6e02489f928",
        "colab": {
          "base_uri": "https://localhost:8080/",
          "height": 121
        }
      },
      "source": [
        "from keras.applications.resnet50 import ResNet50\n",
        "from keras.models import Model\n",
        "import keras\n",
        "\n",
        "input_shape = (32,32,3)\n",
        "restnet = ResNet50(include_top=False, weights='imagenet', input_shape=input_shape)\n",
        "output = keras.layers.Flatten()(restnet.layers[-1].output)\n",
        "restnet = Model(restnet.input, output=output)\n",
        "for layer in restnet.layers:\n",
        "    layer.trainable = True\n",
        "#restnet.summary()"
      ],
      "execution_count": 0,
      "outputs": [
        {
          "output_type": "stream",
          "text": [
            "/usr/local/lib/python3.6/dist-packages/keras_applications/resnet50.py:265: UserWarning: The output shape of `ResNet50(include_top=False)` has been changed since Keras 2.2.0.\n",
            "  warnings.warn('The output shape of `ResNet50(include_top=False)` '\n",
            "/usr/local/lib/python3.6/dist-packages/ipykernel_launcher.py:8: UserWarning: Update your `Model` call to the Keras 2 API: `Model(Tensor(\"in..., outputs=Tensor(\"fl...)`\n",
            "  \n"
          ],
          "name": "stderr"
        },
        {
          "output_type": "execute_result",
          "data": {
            "text/plain": [
              "\"\\nrestnet.trainable = True\\nset_trainable = False\\nfor layer in restnet.layers:\\n    if layer.name in ['res5c_branch2b', 'res5c_branch2c', 'activation_97']:\\n        set_trainable = True\\n    if set_trainable:\\n        layer.trainable = True\\n    else:\\n        layer.trainable = False\\n\""
            ]
          },
          "metadata": {
            "tags": []
          },
          "execution_count": 19
        }
      ]
    },
    {
      "cell_type": "code",
      "metadata": {
        "id": "2vPEf2kcPDKm",
        "colab_type": "code",
        "outputId": "19c24725-4557-4cc2-a85a-58898ad259fe",
        "colab": {
          "base_uri": "https://localhost:8080/",
          "height": 286
        }
      },
      "source": [
        "from keras.layers import Flatten, Dense, Dropout\n",
        "from keras.models import Sequential\n",
        "from keras import optimizers\n",
        "import tensorflow as tf\n",
        "tf.keras.backend.clear_session()\n",
        "\n",
        "model = Sequential()\n",
        "model.add(restnet)\n",
        "model.add(Dropout(0.5))\n",
        "model.add(Dense(512, activation='relu', input_dim=input_shape))\n",
        "model.add(Dropout(0.5))\n",
        "model.add(Dense(5, activation='sigmoid'))\n",
        "model.compile(loss='binary_crossentropy', optimizer=optimizers.Adam(lr=1e-4),metrics=['accuracy'])\n",
        "model.summary()"
      ],
      "execution_count": 0,
      "outputs": [
        {
          "output_type": "stream",
          "text": [
            "Model: \"sequential_1\"\n",
            "_________________________________________________________________\n",
            "Layer (type)                 Output Shape              Param #   \n",
            "=================================================================\n",
            "model_1 (Model)              (None, 2048)              23587712  \n",
            "_________________________________________________________________\n",
            "batch_normalization_1 (Batch (None, 2048)              8192      \n",
            "_________________________________________________________________\n",
            "dense_1 (Dense)              (None, 512)               1049088   \n",
            "_________________________________________________________________\n",
            "dense_2 (Dense)              (None, 5)                 2565      \n",
            "=================================================================\n",
            "Total params: 24,647,557\n",
            "Trainable params: 24,590,341\n",
            "Non-trainable params: 57,216\n",
            "_________________________________________________________________\n"
          ],
          "name": "stdout"
        }
      ]
    },
    {
      "cell_type": "code",
      "metadata": {
        "id": "-iB4ISUI8tmS",
        "colab_type": "code",
        "outputId": "d2d53847-4011-41df-d222-941add29c1de",
        "colab": {
          "base_uri": "https://localhost:8080/",
          "height": 370
        }
      },
      "source": [
        "from tensorflow.keras.callbacks import LearningRateScheduler\n",
        "def decay_schedule(epoch, lr):\n",
        "    # decay by 0.1 every 5 epochs; use `% 1` to decay after each epoch\n",
        "    if (epoch % 5 == 0) and (epoch != 0):\n",
        "        lr = lr * 0.1\n",
        "    return lr\n",
        "\n",
        "lr_scheduler = LearningRateScheduler(decay_schedule)\n",
        "history = model.fit(x_train_resnet, y_train, validation_data=(x_val_resnet, y_val),\n",
        "                    epochs=10, batch_size=128, callbacks=[lr_scheduler], verbose=1)"
      ],
      "execution_count": 0,
      "outputs": [
        {
          "output_type": "stream",
          "text": [
            "Train on 48000 samples, validate on 12000 samples\n",
            "Epoch 1/10\n",
            "48000/48000 [==============================] - 61s 1ms/step - loss: 0.4809 - accuracy: 0.7660 - val_loss: 0.3151 - val_accuracy: 0.8654\n",
            "Epoch 2/10\n",
            "48000/48000 [==============================] - 47s 987us/step - loss: 0.2571 - accuracy: 0.8875 - val_loss: 0.2200 - val_accuracy: 0.9040\n",
            "Epoch 3/10\n",
            "48000/48000 [==============================] - 47s 988us/step - loss: 0.1975 - accuracy: 0.9139 - val_loss: 0.1831 - val_accuracy: 0.9204\n",
            "Epoch 4/10\n",
            "48000/48000 [==============================] - 47s 982us/step - loss: 0.1642 - accuracy: 0.9296 - val_loss: 0.1616 - val_accuracy: 0.9291\n",
            "Epoch 5/10\n",
            "48000/48000 [==============================] - 48s 995us/step - loss: 0.1412 - accuracy: 0.9403 - val_loss: 0.1498 - val_accuracy: 0.9355\n",
            "Epoch 6/10\n",
            "48000/48000 [==============================] - 47s 973us/step - loss: 0.1233 - accuracy: 0.9497 - val_loss: 0.1469 - val_accuracy: 0.9361\n",
            "Epoch 7/10\n",
            "48000/48000 [==============================] - 47s 979us/step - loss: 0.1206 - accuracy: 0.9508 - val_loss: 0.1459 - val_accuracy: 0.9365\n",
            "Epoch 8/10\n",
            "48000/48000 [==============================] - 47s 981us/step - loss: 0.1183 - accuracy: 0.9514 - val_loss: 0.1448 - val_accuracy: 0.9374\n",
            "Epoch 9/10\n",
            "48000/48000 [==============================] - 47s 982us/step - loss: 0.1155 - accuracy: 0.9526 - val_loss: 0.1442 - val_accuracy: 0.9373\n",
            "Epoch 10/10\n",
            "48000/48000 [==============================] - 48s 991us/step - loss: 0.1131 - accuracy: 0.9540 - val_loss: 0.1432 - val_accuracy: 0.9380\n"
          ],
          "name": "stdout"
        }
      ]
    },
    {
      "cell_type": "code",
      "metadata": {
        "id": "PEt9x4fZb67j",
        "colab_type": "code",
        "outputId": "fe47f8c1-8ace-4cb0-908c-ddead3dca636",
        "colab": {
          "base_uri": "https://localhost:8080/",
          "height": 573
        }
      },
      "source": [
        "accuracy = history.history['accuracy']\n",
        "val_accuracy = history.history['val_accuracy']\n",
        "loss = history.history['loss']\n",
        "val_loss = history.history['val_loss']\n",
        "plt.plot(accuracy, label='Training Accuracy')\n",
        "plt.plot(val_accuracy, label='Validation Accuracy')\n",
        "plt.title('Training and Validation accuracy')\n",
        "plt.xlabel('Epochs'); plt.ylabel('Accuracy')\n",
        "plt.legend(); plt.figure();\n",
        "plt.plot(loss, label='Training Loss')\n",
        "plt.plot(val_loss, label='Validation Loss')\n",
        "plt.title('Training and validation loss')\n",
        "plt.xlabel('Epochs'); plt.ylabel('Loss')\n",
        "plt.legend(); plt.show();"
      ],
      "execution_count": 0,
      "outputs": [
        {
          "output_type": "display_data",
          "data": {
            "image/png": "[encoded data removed]",
            "text/plain": [
              "<Figure size 432x288 with 1 Axes>"
            ]
          },
          "metadata": {
            "tags": [],
            "needs_background": "light"
          }
        },
        {
          "output_type": "display_data",
          "data": {
            "image/png": "[encoded data removed]",
            "text/plain": [
              "<Figure size 432x288 with 1 Axes>"
            ]
          },
          "metadata": {
            "tags": [],
            "needs_background": "light"
          }
        }
      ]
    },
    {
      "cell_type": "code",
      "metadata": {
        "id": "L7FabEMiclNj",
        "colab_type": "code",
        "outputId": "5d592108-3dab-4e86-875b-4bdbd7a19e26",
        "colab": {
          "base_uri": "https://localhost:8080/",
          "height": 50
        }
      },
      "source": [
        "# For testing 60/20/20 split\n",
        "model.evaluate(x_test_resnet, y_test)"
      ],
      "execution_count": 0,
      "outputs": [
        {
          "output_type": "stream",
          "text": [
            "12000/12000 [==============================] - 6s 531us/step\n"
          ],
          "name": "stdout"
        },
        {
          "output_type": "execute_result",
          "data": {
            "text/plain": [
              "[0.2469706539089481, 0.954633355140686]"
            ]
          },
          "metadata": {
            "tags": []
          },
          "execution_count": 53
        }
      ]
    },
    {
      "cell_type": "code",
      "metadata": {
        "id": "KZYUadoXICj7",
        "colab_type": "code",
        "colab": {}
      },
      "source": [
        "model.save('Best_resnet_model.h5')"
      ],
      "execution_count": 0,
      "outputs": []
    },
    {
      "cell_type": "code",
      "metadata": {
        "colab_type": "code",
        "id": "__rSkgKTB4fi",
        "outputId": "2261ed83-15ac-4da3-e7b5-6cd8f09e4c6d",
        "colab": {
          "base_uri": "https://localhost:8080/",
          "height": 34
        }
      },
      "source": [
        "x_test = df_test.drop('Id', axis=1).values.reshape(len(df_test),28,28,1)\n",
        "x_test_r = np.pad(x_test, ((0,0),(2,2),(2,2),(0,0)), 'constant')\n",
        "x_test_r = x_test_r.astype('float32')\n",
        "x_test_resnet = np.empty((len(x_test_r), 32, 32, 3))\n",
        "for i in range(len(x_test_resnet)):\n",
        "    x_test_resnet[i, :, :] = np.asarray(PIL.Image.fromarray(x_test_r[i,:,:,0]).convert('RGB'))\n",
        "print(x_test_resnet.shape)"
      ],
      "execution_count": 0,
      "outputs": [
        {
          "output_type": "stream",
          "text": [
            "(10000, 32, 32, 3)\n"
          ],
          "name": "stdout"
        }
      ]
    },
    {
      "cell_type": "code",
      "metadata": {
        "colab_type": "code",
        "id": "WnT_e4lqB4f3",
        "colab": {}
      },
      "source": [
        "import time\n",
        "st = time.time()\n",
        "catpred = model.predict(x_test_resnet)\n",
        "print('Time:', time.time() - st)"
      ],
      "execution_count": 0,
      "outputs": []
    },
    {
      "cell_type": "code",
      "metadata": {
        "colab_type": "code",
        "outputId": "9bd4f870-2369-4a82-b4b9-19850af3ddad",
        "id": "MVk_ODlqB4f_",
        "colab": {
          "base_uri": "https://localhost:8080/",
          "height": 34
        }
      },
      "source": [
        "preds = []\n",
        "for i in catpred:\n",
        "    pred = np.argmax(i)\n",
        "    preds.append(pred)\n",
        "preds =np.array(preds)\n",
        "preds"
      ],
      "execution_count": 0,
      "outputs": [
        {
          "output_type": "execute_result",
          "data": {
            "text/plain": [
              "array([3, 4, 0, ..., 4, 2, 2])"
            ]
          },
          "metadata": {
            "tags": []
          },
          "execution_count": 28
        }
      ]
    },
    {
      "cell_type": "code",
      "metadata": {
        "colab_type": "code",
        "outputId": "e2b54e62-b300-49e2-b481-11c69bdcd0d9",
        "id": "YVCUqAlsB4gK",
        "colab": {
          "base_uri": "https://localhost:8080/",
          "height": 34
        }
      },
      "source": [
        "df_test['Id'].values.shape"
      ],
      "execution_count": 0,
      "outputs": [
        {
          "output_type": "execute_result",
          "data": {
            "text/plain": [
              "(10000,)"
            ]
          },
          "metadata": {
            "tags": []
          },
          "execution_count": 29
        }
      ]
    },
    {
      "cell_type": "code",
      "metadata": {
        "colab_type": "code",
        "id": "eRW7umQEB4gT",
        "colab": {}
      },
      "source": [
        "df_sub = pd.DataFrame(df_test['Id'])\n",
        "df_sub['Label'] = preds\n",
        "df_sub.to_csv('resnet_submission.csv', index=False)"
      ],
      "execution_count": 0,
      "outputs": []
    },
    {
      "cell_type": "code",
      "metadata": {
        "colab_type": "code",
        "id": "7IX5afkPB4gc",
        "colab": {}
      },
      "source": [
        "from google.colab import files\n",
        "files.download(\"resnet_submission.csv\")"
      ],
      "execution_count": 0,
      "outputs": []
    },
    {
      "cell_type": "code",
      "metadata": {
        "colab_type": "code",
        "id": "s4d8UlddB4gj",
        "colab": {}
      },
      "source": [
        "from google.colab import files\n",
        "files.download(\"Best_resnet_model.h5\")"
      ],
      "execution_count": 0,
      "outputs": []
    }
  ]
}